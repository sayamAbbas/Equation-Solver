{
 "cells": [
  {
   "cell_type": "code",
   "execution_count": 143,
   "id": "racial-documentation",
   "metadata": {
    "_cell_guid": "b1076dfc-b9ad-4769-8c92-a6c4dae69d19",
    "_uuid": "8f2839f25d086af736a60e9eeb907d3b93b6e0e5",
    "execution": {
     "iopub.execute_input": "2021-05-05T06:11:00.145804Z",
     "iopub.status.busy": "2021-05-05T06:11:00.145252Z",
     "iopub.status.idle": "2021-05-05T06:11:14.726353Z",
     "shell.execute_reply": "2021-05-05T06:11:14.725783Z"
    },
    "papermill": {
     "duration": 14.603178,
     "end_time": "2021-05-05T06:11:14.726509",
     "exception": false,
     "start_time": "2021-05-05T06:11:00.123331",
     "status": "completed"
    },
    "tags": []
   },
   "outputs": [],
   "source": [
    "import numpy as np # linear algebra\n",
    "import cv2\n",
    "import tensorflow as tf\n",
    "import matplotlib.pyplot as plt\n",
    "from imutils.contours import sort_contours\n",
    "import imutils\n",
    "import asciitomathml.asciitomathml\n",
    "import re\n",
    "\n",
    "from IPython.core.debugger import set_trace\n",
    "from IPython.core.display import display, HTML\n"
   ]
  },
  {
   "cell_type": "code",
   "execution_count": 144,
   "id": "headed-wisdom",
   "metadata": {
    "execution": {
     "iopub.execute_input": "2021-05-05T06:11:14.756794Z",
     "iopub.status.busy": "2021-05-05T06:11:14.756153Z",
     "iopub.status.idle": "2021-05-05T06:11:14.805133Z",
     "shell.execute_reply": "2021-05-05T06:11:14.804643Z"
    },
    "papermill": {
     "duration": 0.065505,
     "end_time": "2021-05-05T06:11:14.805238",
     "exception": false,
     "start_time": "2021-05-05T06:11:14.739733",
     "status": "completed"
    },
    "tags": []
   },
   "outputs": [],
   "source": [
    "from tensorflow.keras.models import Sequential\n",
    "from tensorflow.keras.layers import Conv2D\n",
    "from tensorflow.keras.layers import MaxPooling2D\n",
    "from tensorflow.keras.layers import Dense\n",
    "from tensorflow.keras.layers import Flatten\n",
    "from tensorflow.keras.optimizers import SGD\n",
    "from tensorflow.keras.preprocessing.image import ImageDataGenerator\n",
    "import os"
   ]
  },
  {
   "cell_type": "code",
   "execution_count": 145,
   "id": "patent-organic",
   "metadata": {
    "execution": {
     "iopub.execute_input": "2021-05-05T06:11:14.835939Z",
     "iopub.status.busy": "2021-05-05T06:11:14.835403Z",
     "iopub.status.idle": "2021-05-05T06:17:36.740790Z",
     "shell.execute_reply": "2021-05-05T06:17:36.741337Z"
    },
    "papermill": {
     "duration": 381.923747,
     "end_time": "2021-05-05T06:17:36.741542",
     "exception": false,
     "start_time": "2021-05-05T06:11:14.817795",
     "status": "completed"
    },
    "tags": []
   },
   "outputs": [
    {
     "name": "stdout",
     "output_type": "stream",
     "text": [
      "Found 282007 images belonging to 82 classes.\n",
      "Found 93967 images belonging to 82 classes.\n"
     ]
    }
   ],
   "source": [
    "train_datagen = ImageDataGenerator(\n",
    "    rescale = 1./255, \n",
    "    shear_range = 0.2, \n",
    "    zoom_range = 0.2,\n",
    "    validation_split = 0.25\n",
    ")\n",
    "\n",
    "data_path='extracted_images'\n",
    "train_set = train_datagen.flow_from_directory(\n",
    "    data_path, \n",
    "    target_size = (45, 45), \n",
    "    color_mode = 'grayscale',\n",
    "    batch_size = 32,\n",
    "    class_mode = 'categorical',\n",
    "    shuffle = True,\n",
    "    subset='training',\n",
    "    seed = 123\n",
    ")\n",
    "valid_set = train_datagen.flow_from_directory(\n",
    "    data_path, \n",
    "    target_size = (45, 45), \n",
    "    color_mode = 'grayscale',\n",
    "    batch_size = 32,\n",
    "    class_mode = 'categorical',\n",
    "    shuffle = True,\n",
    "    subset='validation',\n",
    "    seed = 123\n",
    ")"
   ]
  },
  {
   "cell_type": "code",
   "execution_count": 146,
   "id": "natural-battle",
   "metadata": {
    "execution": {
     "iopub.execute_input": "2021-05-05T06:17:36.776135Z",
     "iopub.status.busy": "2021-05-05T06:17:36.775609Z",
     "iopub.status.idle": "2021-05-05T06:17:39.295112Z",
     "shell.execute_reply": "2021-05-05T06:17:39.294549Z"
    },
    "papermill": {
     "duration": 2.539483,
     "end_time": "2021-05-05T06:17:39.295239",
     "exception": false,
     "start_time": "2021-05-05T06:17:36.755756",
     "status": "completed"
    },
    "tags": []
   },
   "outputs": [
    {
     "name": "stderr",
     "output_type": "stream",
     "text": [
      "D:\\Anaconda\\lib\\site-packages\\tensorflow\\python\\keras\\optimizer_v2\\optimizer_v2.py:374: UserWarning: The `lr` argument is deprecated, use `learning_rate` instead.\n",
      "  warnings.warn(\n"
     ]
    }
   ],
   "source": [
    "model = Sequential()\n",
    "model.add(Conv2D(32, (3, 3), activation='relu', input_shape=(45, 45, 1)))\n",
    "model.add(MaxPooling2D((2, 2)))\n",
    "model.add(Conv2D(64, (3, 3), activation='relu'))\n",
    "model.add(MaxPooling2D((2, 2)))\n",
    "model.add(Flatten())\n",
    "model.add(Dense(128, activation='relu'))\n",
    "model.add(Dense(82 , activation='softmax'))\n",
    "# compile model\n",
    "adam = tf.keras.optimizers.Adam(lr = 5e-4)\n",
    "model.compile(optimizer=adam, loss='categorical_crossentropy', metrics=['accuracy'])"
   ]
  },
  {
   "cell_type": "code",
   "execution_count": null,
   "id": "formed-example",
   "metadata": {
    "execution": {
     "iopub.execute_input": "2021-05-05T06:17:39.326457Z",
     "iopub.status.busy": "2021-05-05T06:17:39.325825Z",
     "iopub.status.idle": "2021-05-05T06:46:59.761620Z",
     "shell.execute_reply": "2021-05-05T06:46:59.761127Z"
    },
    "papermill": {
     "duration": 1760.452671,
     "end_time": "2021-05-05T06:46:59.761779",
     "exception": false,
     "start_time": "2021-05-05T06:17:39.309108",
     "status": "completed"
    },
    "tags": []
   },
   "outputs": [
    {
     "name": "stderr",
     "output_type": "stream",
     "text": [
      "D:\\Anaconda\\lib\\site-packages\\tensorflow\\python\\keras\\engine\\training.py:1940: UserWarning: `Model.fit_generator` is deprecated and will be removed in a future version. Please use `Model.fit`, which supports generators.\n",
      "  warnings.warn('`Model.fit_generator` is deprecated and '\n"
     ]
    },
    {
     "name": "stdout",
     "output_type": "stream",
     "text": [
      "8490/8813 [===========================>..] - ETA: 4:46 - loss: 0.8251 - accuracy: 0.7836"
     ]
    }
   ],
   "source": [
    "model.fit_generator(train_set,validation_data=valid_set,epochs=1, verbose=1)"
   ]
  },
  {
   "cell_type": "code",
   "execution_count": null,
   "id": "increasing-rating",
   "metadata": {
    "execution": {
     "iopub.execute_input": "2021-05-05T06:47:03.950596Z",
     "iopub.status.busy": "2021-05-05T06:47:03.950054Z",
     "iopub.status.idle": "2021-05-05T06:48:27.006065Z",
     "shell.execute_reply": "2021-05-05T06:48:27.005357Z"
    },
    "papermill": {
     "duration": 85.119613,
     "end_time": "2021-05-05T06:48:27.006195",
     "exception": false,
     "start_time": "2021-05-05T06:47:01.886582",
     "status": "completed"
    },
    "tags": []
   },
   "outputs": [],
   "source": [
    "val_loss, val_accuracy = model.evaluate(valid_set)\n",
    "print(val_loss,val_accuracy)"
   ]
  },
  {
   "cell_type": "code",
   "execution_count": null,
   "id": "unknown-spanking",
   "metadata": {
    "execution": {
     "iopub.execute_input": "2021-05-05T06:48:31.801197Z",
     "iopub.status.busy": "2021-05-05T06:48:31.800392Z",
     "iopub.status.idle": "2021-05-05T06:48:31.804347Z",
     "shell.execute_reply": "2021-05-05T06:48:31.803884Z"
    },
    "papermill": {
     "duration": 2.417056,
     "end_time": "2021-05-05T06:48:31.804465",
     "exception": false,
     "start_time": "2021-05-05T06:48:29.387409",
     "status": "completed"
    },
    "tags": []
   },
   "outputs": [],
   "source": [
    "def prediction(img):\n",
    "    #img = cv2.imread(img, cv2.IMREAD_GRAYSCALE)\n",
    "    plt.imshow(img, cmap = 'gray')\n",
    "    img = cv2.resize(img,(45, 45))\n",
    "    norm_image = cv2.normalize(img, None, alpha = 0, beta = 1, norm_type = cv2.NORM_MINMAX, dtype = cv2.CV_32F)\n",
    "    #norm_image=img/255\n",
    "    norm_image = norm_image.reshape((norm_image.shape[0], norm_image.shape[1], 1))\n",
    "    case = np.asarray([norm_image])\n",
    "    pred = model.predict_classes([case])\n",
    "    \n",
    "    return ([i for i in train_set.class_indices if train_set.class_indices[i]==(pred[0])][0],pred)"
   ]
  },
  {
   "cell_type": "code",
   "execution_count": null,
   "id": "accepted-dispatch",
   "metadata": {
    "execution": {
     "iopub.execute_input": "2021-05-05T06:48:42.191898Z",
     "iopub.status.busy": "2021-05-05T06:48:42.190899Z",
     "iopub.status.idle": "2021-05-05T06:48:42.196361Z",
     "shell.execute_reply": "2021-05-05T06:48:42.196802Z"
    },
    "papermill": {
     "duration": 2.453088,
     "end_time": "2021-05-05T06:48:42.196962",
     "exception": false,
     "start_time": "2021-05-05T06:48:39.743874",
     "status": "completed"
    },
    "tags": []
   },
   "outputs": [],
   "source": [
    "label_map = (train_set.class_indices)\n",
    "label_map"
   ]
  },
  {
   "cell_type": "code",
   "execution_count": null,
   "id": "59ac022f",
   "metadata": {},
   "outputs": [],
   "source": [
    "image = cv2.imread('test_image2.png')\n",
    "plt.imshow(image)"
   ]
  },
  {
   "cell_type": "code",
   "execution_count": null,
   "id": "appropriate-grove",
   "metadata": {
    "execution": {
     "iopub.execute_input": "2021-05-05T06:48:46.960393Z",
     "iopub.status.busy": "2021-05-05T06:48:46.959800Z",
     "iopub.status.idle": "2021-05-05T06:48:47.600400Z",
     "shell.execute_reply": "2021-05-05T06:48:47.599968Z"
    },
    "papermill": {
     "duration": 2.989794,
     "end_time": "2021-05-05T06:48:47.600526",
     "exception": false,
     "start_time": "2021-05-05T06:48:44.610732",
     "status": "completed"
    },
    "tags": []
   },
   "outputs": [],
   "source": [
    "image = cv2.imread('test_image.jpeg')\n",
    "#image = cv2.resize(image,(300,300))\n",
    "gray = cv2.cvtColor(image, cv2.COLOR_BGR2GRAY)\n",
    "blurred = cv2.GaussianBlur(gray, (5, 5), 0)\n",
    "# perform edge detection, find contours in the edge map, and sort the\n",
    "# resulting contours from left-to-right\n",
    "edged = cv2.Canny(blurred, 30, 150)\n",
    "cnts = cv2.findContours(edged.copy(), cv2.RETR_EXTERNAL,cv2.CHAIN_APPROX_SIMPLE)\n",
    "cnts = imutils.grab_contours(cnts)\n",
    "cnts = sort_contours(cnts, method=\"left-to-right\")[0]\n",
    "chars=[]\n",
    "for c in cnts:\n",
    "    # compute the bounding box of the contour\n",
    "    (x, y, w, h) = cv2.boundingRect(c)\n",
    "    # filter out bounding boxes, ensuring they are neither too small\n",
    "    # nor too large\n",
    "    if w*h>1200:\n",
    "        \n",
    "        roi = gray[y:y + h, x:x + w]\n",
    "        chars.append(prediction(roi))\n",
    "        cv2.rectangle(image, (x, y), (x + w, y + h), (0, 255, 0), 2)"
   ]
  },
  {
   "cell_type": "code",
   "execution_count": null,
   "id": "roman-tattoo",
   "metadata": {
    "execution": {
     "iopub.execute_input": "2021-05-05T06:48:52.615166Z",
     "iopub.status.busy": "2021-05-05T06:48:52.614358Z",
     "iopub.status.idle": "2021-05-05T06:48:52.798962Z",
     "shell.execute_reply": "2021-05-05T06:48:52.799420Z"
    },
    "papermill": {
     "duration": 2.580638,
     "end_time": "2021-05-05T06:48:52.799573",
     "exception": false,
     "start_time": "2021-05-05T06:48:50.218935",
     "status": "completed"
    },
    "tags": []
   },
   "outputs": [],
   "source": [
    "plt.figure(figsize=(10,10))\n",
    "plt.imshow(image)"
   ]
  },
  {
   "cell_type": "code",
   "execution_count": null,
   "id": "downtown-equality",
   "metadata": {
    "execution": {
     "iopub.execute_input": "2021-05-05T06:48:57.592220Z",
     "iopub.status.busy": "2021-05-05T06:48:57.591416Z",
     "iopub.status.idle": "2021-05-05T06:48:57.594200Z",
     "shell.execute_reply": "2021-05-05T06:48:57.594594Z"
    },
    "papermill": {
     "duration": 2.384744,
     "end_time": "2021-05-05T06:48:57.594751",
     "exception": false,
     "start_time": "2021-05-05T06:48:55.210007",
     "status": "completed"
    },
    "tags": []
   },
   "outputs": [],
   "source": [
    "chars"
   ]
  },
  {
   "cell_type": "code",
   "execution_count": null,
   "id": "fewer-queue",
   "metadata": {
    "execution": {
     "iopub.execute_input": "2021-05-05T06:49:07.784981Z",
     "iopub.status.busy": "2021-05-05T06:49:07.783523Z",
     "iopub.status.idle": "2021-05-05T06:49:07.786933Z",
     "shell.execute_reply": "2021-05-05T06:49:07.784215Z"
    },
    "papermill": {
     "duration": 2.515806,
     "end_time": "2021-05-05T06:49:07.787100",
     "exception": false,
     "start_time": "2021-05-05T06:49:05.271294",
     "status": "completed"
    },
    "tags": []
   },
   "outputs": [],
   "source": [
    "labels=[i for i in train_set.class_indices]\n",
    "print(labels)"
   ]
  },
  {
   "cell_type": "code",
   "execution_count": null,
   "id": "3dbad877",
   "metadata": {},
   "outputs": [],
   "source": [
    "eq=[]\n",
    "for i in ((chars)):\n",
    "    eq.append(i[0])"
   ]
  },
  {
   "cell_type": "code",
   "execution_count": null,
   "id": "586162c4",
   "metadata": {},
   "outputs": [],
   "source": [
    "asciiArr=[]\n",
    "for i in range(0, len(eq)):\n",
    "    if re.match('[a-zA-Z]', eq[i]):\n",
    "        asciiArr.append(eq[i])\n",
    "    elif (re.match('[0-9]', eq[i])) and (re.match('[a-zA-Z]', eq[i-1])):\n",
    "        asciiArr.append('^')\n",
    "        asciiArr.append(eq[i])\n",
    "    else:\n",
    "        asciiArr.append(eq[i])"
   ]
  },
  {
   "cell_type": "code",
   "execution_count": null,
   "id": "thick-bangladesh",
   "metadata": {
    "papermill": {
     "duration": 2.624499,
     "end_time": "2021-05-05T06:49:22.828970",
     "exception": false,
     "start_time": "2021-05-05T06:49:20.204471",
     "status": "completed"
    },
    "tags": []
   },
   "outputs": [],
   "source": [
    "listToStr = ' '.join(map(str, asciiArr))\n",
    "math_obj =  asciitomathml.asciitomathml.AsciiMathML(mstyle={'displaystyle':'true'})\n",
    "math_obj.parse_string(listToStr)"
   ]
  },
  {
   "cell_type": "code",
   "execution_count": null,
   "id": "085c69eb",
   "metadata": {},
   "outputs": [],
   "source": [
    "xml_string = math_obj.to_xml_string(encoding='unicode') "
   ]
  },
  {
   "cell_type": "code",
   "execution_count": null,
   "id": "facbf748",
   "metadata": {},
   "outputs": [],
   "source": [
    "display(HTML(xml_string))\n"
   ]
  },
  {
   "cell_type": "code",
   "execution_count": null,
   "id": "06440cc8",
   "metadata": {},
   "outputs": [],
   "source": []
  }
 ],
 "metadata": {
  "kernelspec": {
   "display_name": "Python 3",
   "language": "python",
   "name": "python3"
  },
  "language_info": {
   "codemirror_mode": {
    "name": "ipython",
    "version": 3
   },
   "file_extension": ".py",
   "mimetype": "text/x-python",
   "name": "python",
   "nbconvert_exporter": "python",
   "pygments_lexer": "ipython3",
   "version": "3.8.8"
  },
  "papermill": {
   "default_parameters": {},
   "duration": 2315.280237,
   "end_time": "2021-05-05T06:49:28.654838",
   "environment_variables": {},
   "exception": null,
   "input_path": "__notebook__.ipynb",
   "output_path": "__notebook__.ipynb",
   "parameters": {},
   "start_time": "2021-05-05T06:10:53.374601",
   "version": "2.3.3"
  }
 },
 "nbformat": 4,
 "nbformat_minor": 5
}
